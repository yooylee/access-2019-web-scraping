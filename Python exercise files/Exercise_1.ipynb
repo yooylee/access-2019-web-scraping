{
  "nbformat": 4,
  "nbformat_minor": 0,
  "metadata": {
    "colab": {
      "name": "Exercise 1.ipynb",
      "provenance": []
    },
    "kernelspec": {
      "name": "python3",
      "display_name": "Python 3"
    }
  },
  "cells": [
    {
      "cell_type": "markdown",
      "metadata": {
        "id": "afJPinT5RamF",
        "colab_type": "text"
      },
      "source": [
        "# Please don't edit directly in this document. Create your own copy first.#\n",
        "\n",
        "# Exercise 1: uOttawa Faculty"
      ]
    },
    {
      "cell_type": "markdown",
      "metadata": {
        "id": "n3mQI4U0Rcxq",
        "colab_type": "text"
      },
      "source": [
        "#Extract\n",
        "First, let's run the cell below to import neccesary packages. Although most of the commonly used Python libraries are pre-installed, new libraries can be installed as !pip install [package name] or !apt-get install [package name].\n",
        "\n",
        "##1. Packages\n",
        "\n",
        "*   [requests](https://github.com/psf/requests): an elegant and simple HTTP library for Python.\n",
        "*   [Beautiful Soup](https://www.crummy.com/software/BeautifulSoup/bs4/doc/): Python library for pulling data out of HTML and XML files"
      ]
    },
    {
      "cell_type": "code",
      "metadata": {
        "id": "PbyPdTkURVZg",
        "colab_type": "code",
        "colab": {}
      },
      "source": [
        "# import\n",
        "### START CODE HERE ### (≈ 2 lines of code)\n",
        "\n",
        "\n",
        "### END CODE HERE ###"
      ],
      "execution_count": 0,
      "outputs": []
    },
    {
      "cell_type": "markdown",
      "metadata": {
        "id": "W6iIKkG1Ryrt",
        "colab_type": "text"
      },
      "source": [
        "Second, set the url of the website from which we'd like to extract data using the requests library that we imported in the first step. If the access was successful, you should see the output as <Response [200]>.\n",
        "\n",
        "## 2. Set the URL"
      ]
    },
    {
      "cell_type": "code",
      "metadata": {
        "id": "iFQR0psBR5NT",
        "colab_type": "code",
        "colab": {}
      },
      "source": [
        "# Set the URL you want to scrape from\n",
        "url='https://www.uottawa.ca/en/faculties'\n",
        "\n",
        "# Test if the connection is ok\n",
        "### START CODE HERE ### (≈ 2 lines of code)\n",
        "\n",
        "\n",
        "### END CODE HERE ###"
      ],
      "execution_count": 0,
      "outputs": []
    },
    {
      "cell_type": "markdown",
      "metadata": {
        "id": "4_8E2_DtSU9L",
        "colab_type": "text"
      },
      "source": [
        "Third, parse the html with BeautifulSoup.\n",
        "\n",
        "## 3. Parse HTML file"
      ]
    },
    {
      "cell_type": "code",
      "metadata": {
        "id": "H4xb3nQDSZrx",
        "colab_type": "code",
        "colab": {}
      },
      "source": [
        "# Parse HTML and save to BeautifulSoup object\n",
        "### START CODE HERE ### (≈ 2 lines of code)\n",
        "\n",
        "\n",
        "### END CODE HERE ###"
      ],
      "execution_count": 0,
      "outputs": []
    },
    {
      "cell_type": "markdown",
      "metadata": {
        "id": "sr6Sh1WuTARR",
        "colab_type": "text"
      },
      "source": [
        "Fourth, find an element with its attribute name. \n",
        "\n",
        "###Syntax: find_all(name, attrs)\n",
        "Find all elements following the same syntax rules.\n",
        "\n",
        "## 4. Extract faculty."
      ]
    },
    {
      "cell_type": "code",
      "metadata": {
        "id": "Uny2x-SaTxjH",
        "colab_type": "code",
        "colab": {}
      },
      "source": [
        "# Find faculty: save as list\n",
        "### START CODE HERE ### (≈ 2 lines of code)\n",
        "\n",
        "\n",
        "### END CODE HERE ###"
      ],
      "execution_count": 0,
      "outputs": []
    },
    {
      "cell_type": "markdown",
      "metadata": {
        "id": "hw4pgSnVWQHm",
        "colab_type": "text"
      },
      "source": [
        "# Export to CSV\n",
        "Import neccesary packages. The file will be saved in the virtual machine, so in order to download a csv file to your local computer, you need to import *files* from google.colab. \n",
        "\n",
        "## 1. Packages\n",
        "\n",
        "*   [pandas](https://pandas.pydata.org/): open source, BSD-licensed library providing high-performance, easy-to-use data structures and data analysis tools.\n",
        "\n",
        "\n"
      ]
    },
    {
      "cell_type": "code",
      "metadata": {
        "id": "1lHHFV0GWVVZ",
        "colab_type": "code",
        "colab": {}
      },
      "source": [
        "# import\n",
        "### START CODE HERE ### (≈ 2 lines of code)\n",
        "\n",
        "\n",
        "### END CODE HERE ###"
      ],
      "execution_count": 0,
      "outputs": []
    },
    {
      "cell_type": "markdown",
      "metadata": {
        "id": "YRmYjoguWfBg",
        "colab_type": "text"
      },
      "source": [
        "## 2. DataFrame"
      ]
    },
    {
      "cell_type": "code",
      "metadata": {
        "id": "zAC0ptNEWtfT",
        "colab_type": "code",
        "colab": {}
      },
      "source": [
        "# Create data frame \n",
        "### START CODE HERE ### (≈ 2 lines of code)\n",
        "\n",
        "\n",
        "### END CODE HERE ###"
      ],
      "execution_count": 0,
      "outputs": []
    },
    {
      "cell_type": "markdown",
      "metadata": {
        "id": "vuYkBavvW25E",
        "colab_type": "text"
      },
      "source": [
        "You can save df (Data frame) to csv format using df.to_csv().\n",
        "\n",
        "## 3. Save as CSV"
      ]
    },
    {
      "cell_type": "code",
      "metadata": {
        "id": "MD-jICPDW3Yt",
        "colab_type": "code",
        "colab": {}
      },
      "source": [
        "# Save df as csv in the virtual machine provided by Google\n",
        "### START CODE HERE ### (≈ 1 lines of code)\n",
        "\n",
        "### END CODE HERE ###\n",
        "\n",
        "# Download the file to your computer\n",
        "### START CODE HERE ### (≈ 1 lines of code)\n",
        "\n",
        "### END CODE HERE ###"
      ],
      "execution_count": 0,
      "outputs": []
    }
  ]
}