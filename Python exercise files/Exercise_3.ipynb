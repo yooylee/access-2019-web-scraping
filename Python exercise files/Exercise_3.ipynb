{
  "nbformat": 4,
  "nbformat_minor": 0,
  "metadata": {
    "colab": {
      "name": "Exercise 3.ipynb",
      "provenance": []
    },
    "kernelspec": {
      "name": "python3",
      "display_name": "Python 3"
    }
  },
  "cells": [
    {
      "cell_type": "markdown",
      "metadata": {
        "id": "Mu7_iwYg1HBg",
        "colab_type": "text"
      },
      "source": [
        "# Please don't edit directly in this document. Create your own copy first.#\n",
        "\n",
        "# Exercise 1: IUPUI List of Professors"
      ]
    },
    {
      "cell_type": "markdown",
      "metadata": {
        "id": "Em4-d5VG1KGn",
        "colab_type": "text"
      },
      "source": [
        "#Extract\n",
        "First, let's run the cell below to import neccesary libraries. Although most of the commonly used Python libraries are pre-installed, new libraries can be installed as !pip install [package name] or !apt-get install [package name].\n",
        "\n",
        "##1. Libraries\n",
        "\n",
        "*   [requests](https://github.com/psf/requests): an elegant and simple HTTP library for Python.\n",
        "*   [Beautiful Soup](https://www.crummy.com/software/BeautifulSoup/bs4/doc/): Python library for pulling data out of HTML and XML files"
      ]
    },
    {
      "cell_type": "code",
      "metadata": {
        "id": "JMuh3uEe08ha",
        "colab_type": "code",
        "colab": {}
      },
      "source": [
        "# import\n",
        "### START CODE HERE ### (≈ 2 lines of code)\n",
        "\n",
        "\n",
        "### END CODE HERE ###"
      ],
      "execution_count": 0,
      "outputs": []
    },
    {
      "cell_type": "markdown",
      "metadata": {
        "id": "T4YunQ-N1UiK",
        "colab_type": "text"
      },
      "source": [
        "Second, set the url of the website from which we'd like to extract data using the requests library that we imported in the first step. If the access was successful, you should see the output as <Response [200]>.\n",
        "\n",
        "## 2. Set the URL"
      ]
    },
    {
      "cell_type": "code",
      "metadata": {
        "id": "X2L8R3Yk1ZOh",
        "colab_type": "code",
        "colab": {}
      },
      "source": [
        "# Set the URL you want to scrape from\n",
        "### START CODE HERE ### (≈ 1 lines of code)\n",
        "\n",
        "### END CODE HERE ###\n",
        "\n",
        "# Test if the connection is ok\n",
        "### START CODE HERE ### (≈ 2 lines of code)\n",
        "\n",
        "\n",
        "### END CODE HERE ###"
      ],
      "execution_count": 0,
      "outputs": []
    },
    {
      "cell_type": "markdown",
      "metadata": {
        "id": "hlRfAa591brl",
        "colab_type": "text"
      },
      "source": [
        "Third, parse the html with BeautifulSoup.\n",
        "\n",
        "## 3. Parse HTML file"
      ]
    },
    {
      "cell_type": "code",
      "metadata": {
        "id": "9kmARIWj1ePe",
        "colab_type": "code",
        "colab": {}
      },
      "source": [
        "# Parse HTML and save to BeautifulSoup object\n",
        "# Instead of default parser, html.parser, use 'html5lib' with response.content (not response.text)\n",
        "# The html5lib parser uses techniques that are part of the HTML5 standard, so it has the best claim on being the “correct” way.\n",
        "### START CODE HERE ### (≈ 2 lines of code)\n",
        "\n",
        "\n",
        "### END CODE HERE ###"
      ],
      "execution_count": 0,
      "outputs": []
    },
    {
      "cell_type": "markdown",
      "metadata": {
        "id": "rLN_zdV-1iNq",
        "colab_type": "text"
      },
      "source": [
        "Fourth, find an element with its attribute name. \n",
        "\n",
        "###Syntax: find_all(name, attrs)\n",
        "Find all elements following the same syntax rules.\n",
        "\n",
        "## 4. Extract professor name and title."
      ]
    },
    {
      "cell_type": "code",
      "metadata": {
        "id": "Ezeqyatr1lO2",
        "colab_type": "code",
        "colab": {}
      },
      "source": [
        "# Extract a specific part of the HTML document - find div whose id is filter-results and save it as table\n",
        "### START CODE HERE ### (≈ 2 lines of code)\n",
        "\n",
        "\n",
        "### END CODE HERE ###"
      ],
      "execution_count": 0,
      "outputs": []
    },
    {
      "cell_type": "code",
      "metadata": {
        "id": "7mmSd3badfTY",
        "colab_type": "code",
        "colab": {}
      },
      "source": [
        "# Create an empty list called professors (example: list=[])\n",
        "### START CODE HERE ### (≈ 1 lines of code)\n",
        "\n",
        "### END CODE HERE ###\n",
        "\n",
        "# Extract name and title \n",
        "for row in table.findAll('article', attrs = {'class':'profile feed-item'}): \n",
        "    # Create a dictionary to save all information \n",
        "    professor = {} \n",
        "    ### START CODE HERE ### (≈ 2 lines of code)\n",
        "\n",
        "    \n",
        "    ### END CODE HERE ###\n",
        "    professors.append(professor) \n",
        "\n",
        "professors\n"
      ],
      "execution_count": 0,
      "outputs": []
    },
    {
      "cell_type": "markdown",
      "metadata": {
        "id": "5fcJuYfb1sS9",
        "colab_type": "text"
      },
      "source": [
        "# Export to CSV\n",
        "Import neccesary libraries. The file will be saved in the virtual machine, so in order to download a csv file to your local computer, you need to import *files* from google.colab. \n",
        "\n",
        "## 1. Libraries\n",
        "\n",
        "*   [csv](https://docs.python.org/3/library/csv.html): the most common import and export format for spreadsheets and databases.\n"
      ]
    },
    {
      "cell_type": "code",
      "metadata": {
        "id": "8HEm4AKq1wak",
        "colab_type": "code",
        "colab": {}
      },
      "source": [
        "# import\n",
        "### START CODE HERE ### (≈ 2 lines of code)\n",
        "\n",
        "\n",
        "### END CODE HERE ###"
      ],
      "execution_count": 0,
      "outputs": []
    },
    {
      "cell_type": "code",
      "metadata": {
        "id": "T6i-F0yU1xFm",
        "colab_type": "code",
        "colab": {}
      },
      "source": [
        "# Save it from list to csv\n",
        "\n",
        "filename = 'iupui_list.csv'\n",
        "\n",
        "with open(filename, 'w') as f: \n",
        "    w = csv.DictWriter(f,['name','title']) \n",
        "    w.writeheader() \n",
        "    for professor in professors: \n",
        "        w.writerow(professor) \n",
        "\n",
        "# Download the file to your computer\n",
        "### START CODE HERE ### (≈ 1 lines of code)\n",
        "\n",
        "### END CODE HERE ###"
      ],
      "execution_count": 0,
      "outputs": []
    }
  ]
}