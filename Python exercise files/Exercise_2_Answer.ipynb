{
  "nbformat": 4,
  "nbformat_minor": 0,
  "metadata": {
    "colab": {
      "name": "Exercise 2 Answer.ipynb",
      "provenance": []
    },
    "kernelspec": {
      "name": "python3",
      "display_name": "Python 3"
    }
  },
  "cells": [
    {
      "cell_type": "markdown",
      "metadata": {
        "id": "YWziRsn4fMp8",
        "colab_type": "text"
      },
      "source": [
        "# Please don't edit directly in this document. Create your own copy first.#\n",
        "\n",
        "# Exercise 2: Veggie/Vegan Restaurants in Edmonton"
      ]
    },
    {
      "cell_type": "markdown",
      "metadata": {
        "id": "e8aTx2gIfzln",
        "colab_type": "text"
      },
      "source": [
        "# Extract\n",
        "\n",
        "First, let's run the cell below to import neccesary libraries. Although most of the commonly used Python libraries are pre-installed, new libraries can be installed as *!pip install [package name]* or *!apt-get install [package name]*.\n",
        "\n",
        "##1. Libraries\n",
        "\n",
        "*   [requests](https://github.com/psf/requests): an elegant and simple HTTP library for Python.\n",
        "*   [Beautiful Soup](https://www.crummy.com/software/BeautifulSoup/bs4/doc/): Python library for pulling data out of HTML and XML files\n",
        "\n",
        "\n",
        "\n",
        "\n",
        "\n",
        "\n"
      ]
    },
    {
      "cell_type": "code",
      "metadata": {
        "id": "Lxc9QMP2gSaa",
        "colab_type": "code",
        "colab": {}
      },
      "source": [
        "# Import\n",
        "import requests\n",
        "from bs4 import BeautifulSoup"
      ],
      "execution_count": 0,
      "outputs": []
    },
    {
      "cell_type": "markdown",
      "metadata": {
        "id": "UW58Hiq-mRLg",
        "colab_type": "text"
      },
      "source": [
        "Second, set the url of the website from which we'd like to extract data using the requests library that we imported in the first step. If the access was successful, you should see the output as <Response [200]>.\n",
        "\n",
        "## 2. Set the URL"
      ]
    },
    {
      "cell_type": "code",
      "metadata": {
        "id": "p6JDKHfWmRuo",
        "colab_type": "code",
        "colab": {}
      },
      "source": [
        "# Set the URL you want to scrape from\n",
        "url='https://exploreedmonton.com/food-drink-all?location=52&category=885'\n",
        "\n",
        "# Connect to the URL\n",
        "response = requests.get(url)\n",
        "response"
      ],
      "execution_count": 0,
      "outputs": []
    },
    {
      "cell_type": "markdown",
      "metadata": {
        "id": "MYhCREnXmroI",
        "colab_type": "text"
      },
      "source": [
        "Third, parse the html with BeautifulSoup.\n",
        "\n",
        "## 3. Parse HTML file"
      ]
    },
    {
      "cell_type": "code",
      "metadata": {
        "id": "LCHKk4xnmsVu",
        "colab_type": "code",
        "colab": {}
      },
      "source": [
        "# Parse HTML and save to BeautifulSoup object\n",
        "soup = BeautifulSoup(response.text, \"html.parser\")\n",
        "soup"
      ],
      "execution_count": 0,
      "outputs": []
    },
    {
      "cell_type": "markdown",
      "metadata": {
        "id": "OUfpsbIymxwf",
        "colab_type": "text"
      },
      "source": [
        "Fourth, find an element with its attribute name. \n",
        "\n",
        "###Syntax: find_all(name, attrs)\n",
        "Find all elements following the same syntax rules.\n",
        "\n",
        "## 4. Extract Name and Price Range."
      ]
    },
    {
      "cell_type": "code",
      "metadata": {
        "id": "05hKtwg7m1a_",
        "colab_type": "code",
        "colab": {}
      },
      "source": [
        "# Restaurant Name: Save as List\n",
        "\n",
        "name = [name.text for name in soup.find_all('h4')]\n",
        "name"
      ],
      "execution_count": 0,
      "outputs": []
    },
    {
      "cell_type": "code",
      "metadata": {
        "id": "pzsHkZmAo6GP",
        "colab_type": "code",
        "outputId": "8a9f5249-0bf0-4454-ade3-f03a47cbac54",
        "colab": {
          "base_uri": "https://localhost:8080/",
          "height": 136
        }
      },
      "source": [
        "# Restaurant Price\n",
        "\n",
        "price = [price.text for price in soup.find_all('span', attrs={'class': 'full-content-listing-results__label text-weight-bold text-align-center text-casing-upper text-small bg-tan'})]\n",
        "price"
      ],
      "execution_count": 0,
      "outputs": [
        {
          "output_type": "execute_result",
          "data": {
            "text/plain": [
              "['\\nPrice Range\\n                                                $$\\n                      ',\n",
              " '\\nPrice Range\\n                                                $\\n                      ',\n",
              " '\\nPrice Range\\n                                                $$\\n                      ',\n",
              " '\\nPrice Range\\n                                                $$\\n                      ',\n",
              " '\\nPrice Range\\n                                                $$\\n                      ',\n",
              " '\\nPrice Range\\n                                                $\\n                      ',\n",
              " '\\nPrice Range\\n                                                $$\\n                      ']"
            ]
          },
          "metadata": {
            "tags": []
          },
          "execution_count": 40
        }
      ]
    },
    {
      "cell_type": "markdown",
      "metadata": {
        "id": "69g3rRN2vjHC",
        "colab_type": "text"
      },
      "source": [
        "# Export to CSV\n",
        "Import neccesary libraries. The file will be saved in the virtual machine, so in order to download a csv file to your local computer, you need to import *files* from google.colab. \n",
        "\n",
        "## 1. Libraries\n",
        "\n",
        "*   [pandas](https://pandas.pydata.org/): open source, BSD-licensed library providing high-performance, easy-to-use data structures and data analysis tools.\n",
        "\n",
        "\n"
      ]
    },
    {
      "cell_type": "code",
      "metadata": {
        "id": "5SvTToYhvlxH",
        "colab_type": "code",
        "colab": {}
      },
      "source": [
        "# import\n",
        "import pandas as pd\n",
        "from google.colab import files"
      ],
      "execution_count": 0,
      "outputs": []
    },
    {
      "cell_type": "markdown",
      "metadata": {
        "id": "94t6zbWEvyIt",
        "colab_type": "text"
      },
      "source": [
        "## 2. DataFrame"
      ]
    },
    {
      "cell_type": "code",
      "metadata": {
        "id": "vBGOJH2SvzSe",
        "colab_type": "code",
        "outputId": "884cf7a8-9902-4cac-bb06-2e9e86be0665",
        "colab": {
          "base_uri": "https://localhost:8080/",
          "height": 266
        }
      },
      "source": [
        "# Create an empty data frame\n",
        "df = pd.DataFrame()\n",
        "\n",
        "# Add name to df\n",
        "df['Name'] = name\n",
        "\n",
        "# Add price to df\n",
        "df['Price'] = price\n",
        "\n",
        "# Keep only $$ sign\n",
        "df['Price'] = df['Price'].map(lambda x: x.lstrip('\\nPrice Range\\n'))\n",
        "df['Price'] = df['Price'].str.replace(\"\\n\", \"\")\n",
        "\n",
        "df"
      ],
      "execution_count": 0,
      "outputs": [
        {
          "output_type": "execute_result",
          "data": {
            "text/html": [
              "<div>\n",
              "<style scoped>\n",
              "    .dataframe tbody tr th:only-of-type {\n",
              "        vertical-align: middle;\n",
              "    }\n",
              "\n",
              "    .dataframe tbody tr th {\n",
              "        vertical-align: top;\n",
              "    }\n",
              "\n",
              "    .dataframe thead th {\n",
              "        text-align: right;\n",
              "    }\n",
              "</style>\n",
              "<table border=\"1\" class=\"dataframe\">\n",
              "  <thead>\n",
              "    <tr style=\"text-align: right;\">\n",
              "      <th></th>\n",
              "      <th>Name</th>\n",
              "      <th>Price</th>\n",
              "    </tr>\n",
              "  </thead>\n",
              "  <tbody>\n",
              "    <tr>\n",
              "      <th>0</th>\n",
              "      <td>LovePizza</td>\n",
              "      <td>$$</td>\n",
              "    </tr>\n",
              "    <tr>\n",
              "      <th>1</th>\n",
              "      <td>Speedy's Burrito Cantina</td>\n",
              "      <td>$</td>\n",
              "    </tr>\n",
              "    <tr>\n",
              "      <th>2</th>\n",
              "      <td>Kanu Cafe</td>\n",
              "      <td>$$</td>\n",
              "    </tr>\n",
              "    <tr>\n",
              "      <th>3</th>\n",
              "      <td>Arcadia</td>\n",
              "      <td>$$</td>\n",
              "    </tr>\n",
              "    <tr>\n",
              "      <th>4</th>\n",
              "      <td>Padmanadi</td>\n",
              "      <td>$$</td>\n",
              "    </tr>\n",
              "    <tr>\n",
              "      <th>5</th>\n",
              "      <td>KB &amp; Co</td>\n",
              "      <td>$</td>\n",
              "    </tr>\n",
              "    <tr>\n",
              "      <th>6</th>\n",
              "      <td>Remedy Cafe</td>\n",
              "      <td>$$</td>\n",
              "    </tr>\n",
              "  </tbody>\n",
              "</table>\n",
              "</div>"
            ],
            "text/plain": [
              "                       Name                     Price\n",
              "0                 LovePizza  $$                      \n",
              "1  Speedy's Burrito Cantina   $                      \n",
              "2                 Kanu Cafe  $$                      \n",
              "3                   Arcadia  $$                      \n",
              "4                 Padmanadi  $$                      \n",
              "5                   KB & Co   $                      \n",
              "6               Remedy Cafe  $$                      "
            ]
          },
          "metadata": {
            "tags": []
          },
          "execution_count": 48
        }
      ]
    },
    {
      "cell_type": "markdown",
      "metadata": {
        "id": "_ec7AEsxvrUD",
        "colab_type": "text"
      },
      "source": [
        "You can save df (Data frame) to csv format using df.to_csv().\n",
        "\n",
        "## 3. Save as CSV"
      ]
    },
    {
      "cell_type": "code",
      "metadata": {
        "id": "4o9gpTGExmOV",
        "colab_type": "code",
        "colab": {}
      },
      "source": [
        "# Save df as csv in the virtual machine provided by Google\n",
        "df.to_csv('edmonton_restaurant.csv', sep='\\t', encoding='utf-8')\n",
        "\n",
        "# Download the file to your computer\n",
        "files.download(\"edmonton_restaurant.csv\")\n"
      ],
      "execution_count": 0,
      "outputs": []
    }
  ]
}