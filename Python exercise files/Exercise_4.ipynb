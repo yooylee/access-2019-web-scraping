{
  "nbformat": 4,
  "nbformat_minor": 0,
  "metadata": {
    "colab": {
      "name": "Exercise 4.ipynb",
      "provenance": []
    },
    "kernelspec": {
      "name": "python3",
      "display_name": "Python 3"
    }
  },
  "cells": [
    {
      "cell_type": "markdown",
      "metadata": {
        "id": "i4BF8OyKVv7V",
        "colab_type": "text"
      },
      "source": [
        "# Please don't edit directly in this document. Create your own copy first.#\n",
        "\n",
        "# Exercise 4: CBC Edmonton News"
      ]
    },
    {
      "cell_type": "markdown",
      "metadata": {
        "id": "c7bDXKh8V0RG",
        "colab_type": "text"
      },
      "source": [
        "#Extract\n",
        "First, let's run the cell below to import neccesary libraries. Although most of the commonly used Python libraries are pre-installed, new libraries can be installed as !pip install [package name] or !apt-get install [package name].\n",
        "\n",
        "##1. Libraries\n",
        "\n",
        "*   [requests](https://github.com/psf/requests): an elegant and simple HTTP library for Python.\n",
        "*   [Beautiful Soup](https://www.crummy.com/software/BeautifulSoup/bs4/doc/): Python library for pulling data out of HTML and XML files\n",
        "* [datetime](https://docs.python.org/2/library/datetime.html): classes for manipulating dates and times in both simple and complex ways"
      ]
    },
    {
      "cell_type": "code",
      "metadata": {
        "id": "PWp06yu8VjQo",
        "colab_type": "code",
        "colab": {}
      },
      "source": [
        "# import\n",
        "### START CODE HERE ### (≈ 2 lines of code)\n",
        "\n",
        "\n",
        "### END CODE HERE ###\n",
        "import datetime "
      ],
      "execution_count": 0,
      "outputs": []
    },
    {
      "cell_type": "markdown",
      "metadata": {
        "id": "sHfQoSC0WAFQ",
        "colab_type": "text"
      },
      "source": [
        "Second, set the url of the website from which we'd like to extract data using the requests library that we imported in the first step. If the access was successful, you should see the output as <Response [200]>.\n",
        "\n",
        "## 2. Set the URL"
      ]
    },
    {
      "cell_type": "code",
      "metadata": {
        "id": "qMNZH_kQWCnp",
        "colab_type": "code",
        "colab": {}
      },
      "source": [
        "# Set the URL you want to scrape from\n",
        "### START CODE HERE ### (≈ 1 lines of code)\n",
        "\n",
        "### END CODE HERE ###\n",
        "\n",
        "# Connect to the URL\n",
        "### START CODE HERE ### (≈ 2 lines of code)\n",
        "\n",
        "\n",
        "### END CODE HERE ###"
      ],
      "execution_count": 0,
      "outputs": []
    },
    {
      "cell_type": "markdown",
      "metadata": {
        "id": "4EgO0Yz9WLIn",
        "colab_type": "text"
      },
      "source": [
        "Third, parse the html with BeautifulSoup.\n",
        "\n",
        "## 3. Parse HTML file"
      ]
    },
    {
      "cell_type": "code",
      "metadata": {
        "id": "_fyjXxIIWObx",
        "colab_type": "code",
        "colab": {}
      },
      "source": [
        "# Parse HTML and save to BeautifulSoup object\n",
        "### START CODE HERE ### (≈ 2 lines of code)\n",
        "\n",
        "\n",
        "### END CODE HERE ###"
      ],
      "execution_count": 0,
      "outputs": []
    },
    {
      "cell_type": "markdown",
      "metadata": {
        "id": "3GQw-TNWWRWz",
        "colab_type": "text"
      },
      "source": [
        "Fourth, find an element with its attribute name. \n",
        "\n",
        "###Syntax: find_all(name, attrs)\n",
        "Find all elements following the same syntax rules.\n",
        "\n",
        "## 4. Extract title, url, and date."
      ]
    },
    {
      "cell_type": "code",
      "metadata": {
        "id": "t6UYFjnxWU2u",
        "colab_type": "code",
        "colab": {}
      },
      "source": [
        "# Extract \n",
        "### START CODE HERE ### (≈ 1 lines of code)\n",
        "\n",
        "### END CODE HERE ###\n",
        "\n",
        "# Create an empty list\n",
        "### START CODE HERE ### (≈ 1 lines of code)\n",
        "\n",
        "### END CODE HERE ###\n",
        "\n",
        "# Create a loop to repeat this process and store the output in a list of tuples called records:\n",
        "### START CODE HERE ### (≈ 3 lines of code)\n",
        "\n",
        "\n",
        "\n",
        "### END CODE HERE ###\n",
        "    today = datetime.date.today()\n",
        "    ### START CODE HERE ### (≈ 1 lines of code)\n",
        "\n",
        "    ### END CODE HERE ###\n",
        "\n",
        "records"
      ],
      "execution_count": 0,
      "outputs": []
    },
    {
      "cell_type": "markdown",
      "metadata": {
        "id": "_p9nlj5JWeq-",
        "colab_type": "text"
      },
      "source": [
        "# Save in the dataframe\n",
        "Import the panda library. The file will be saved in the virtual machine, so in order to download a csv file to your local computer, you need to import *files* from google.colab. \n",
        "\n",
        "## 1. Library\n",
        "\n",
        "*   [pandas](https://pandas.pydata.org/): open source, BSD-licensed library providing high-performance, easy-to-use data structures and data analysis tools.\n"
      ]
    },
    {
      "cell_type": "code",
      "metadata": {
        "id": "-KjiEQc8WhPR",
        "colab_type": "code",
        "colab": {}
      },
      "source": [
        "# import\n",
        "### START CODE HERE ### (≈ 1 lines of code)\n",
        "\n",
        "### END CODE HERE ###"
      ],
      "execution_count": 0,
      "outputs": []
    },
    {
      "cell_type": "code",
      "metadata": {
        "id": "qu1V26IcWo94",
        "colab_type": "code",
        "colab": {}
      },
      "source": [
        "# create a dataframe\n",
        "### START CODE HERE ### (≈ 2 lines of code)\n",
        "\n",
        "\n",
        "### END CODE HERE ###"
      ],
      "execution_count": 0,
      "outputs": []
    }
  ]
}