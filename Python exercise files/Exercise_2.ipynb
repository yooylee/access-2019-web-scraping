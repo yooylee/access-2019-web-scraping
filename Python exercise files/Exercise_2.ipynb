{
  "nbformat": 4,
  "nbformat_minor": 0,
  "metadata": {
    "colab": {
      "name": "Exercise 2.ipynb",
      "provenance": []
    },
    "kernelspec": {
      "name": "python3",
      "display_name": "Python 3"
    }
  },
  "cells": [
    {
      "cell_type": "markdown",
      "metadata": {
        "id": "qB4aIzD9xtgJ",
        "colab_type": "text"
      },
      "source": [
        "# Please don't edit directly in this document. Create your own copy first.#\n",
        "\n",
        "# Exercise 2: Veggie/Vegan Restaurants in Edmonton"
      ]
    },
    {
      "cell_type": "markdown",
      "metadata": {
        "id": "H7Bn-tpsx6OC",
        "colab_type": "text"
      },
      "source": [
        "# Extract\n",
        "\n",
        "First, let's run the cell below to import neccesary libraries. Although most of the commonly used Python libraries are pre-installed, new libraries can be installed as *!pip install [package name]* or *!apt-get install [package name]*.\n",
        "\n",
        "##1. Libraries\n",
        "\n",
        "*   [requests](https://github.com/psf/requests): an elegant and simple HTTP library for Python.\n",
        "*   [Beautiful Soup](https://www.crummy.com/software/BeautifulSoup/bs4/doc/): Python library for pulling data out of HTML and XML files\n",
        "\n",
        "\n",
        "\n",
        "\n",
        "\n",
        "\n"
      ]
    },
    {
      "cell_type": "code",
      "metadata": {
        "id": "FN3gKdeUx7ab",
        "colab_type": "code",
        "colab": {}
      },
      "source": [
        "# import\n",
        "### START CODE HERE ### (≈ 2 lines of code)\n",
        "\n",
        "\n",
        "### END CODE HERE ###"
      ],
      "execution_count": 0,
      "outputs": []
    },
    {
      "cell_type": "markdown",
      "metadata": {
        "id": "DrjZ8bQByBuH",
        "colab_type": "text"
      },
      "source": [
        "Second, set the url of the website from which we'd like to extract data using the requests library that we imported in the first step. If the access was successful, you should see the output as <Response [200]>.\n",
        "\n",
        "## 2. Set the URL"
      ]
    },
    {
      "cell_type": "code",
      "metadata": {
        "id": "1cRaEguWyClC",
        "colab_type": "code",
        "colab": {}
      },
      "source": [
        "# Set the URL you want to scrape from\n",
        "### START CODE HERE ### (≈ 1 lines of code)\n",
        "\n",
        "### END CODE HERE ###\n",
        "\n",
        "# Test if the connection is ok\n",
        "### START CODE HERE ### (≈ 2 lines of code)\n",
        "\n",
        "\n",
        "### END CODE HERE ###"
      ],
      "execution_count": 0,
      "outputs": []
    },
    {
      "cell_type": "markdown",
      "metadata": {
        "id": "tKHbVmEWyHRP",
        "colab_type": "text"
      },
      "source": [
        "Third, parse the html with BeautifulSoup.\n",
        "\n",
        "## 3. Parse HTML file"
      ]
    },
    {
      "cell_type": "code",
      "metadata": {
        "id": "hmuxWKYXyJSh",
        "colab_type": "code",
        "colab": {}
      },
      "source": [
        "# Parse HTML and save to BeautifulSoup object\n",
        "### START CODE HERE ### (≈ 2 lines of code)\n",
        "\n",
        "\n",
        "### END CODE HERE ###"
      ],
      "execution_count": 0,
      "outputs": []
    },
    {
      "cell_type": "markdown",
      "metadata": {
        "id": "eJ1TSi35yMMe",
        "colab_type": "text"
      },
      "source": [
        "Fourth, find an element with its attribute name. \n",
        "\n",
        "###Syntax: find_all(name, attrs)\n",
        "Find all elements following the same syntax rules.\n",
        "\n",
        "## 4. Extract Name and Price Range."
      ]
    },
    {
      "cell_type": "code",
      "metadata": {
        "id": "_x3K3nddyPCQ",
        "colab_type": "code",
        "colab": {}
      },
      "source": [
        "# Restaurant Name: Save as List\n",
        "### START CODE HERE ### (≈ 2 lines of code)\n",
        "\n",
        "\n",
        "### END CODE HERE ###"
      ],
      "execution_count": 0,
      "outputs": []
    },
    {
      "cell_type": "code",
      "metadata": {
        "id": "yq0BtHAVyTB-",
        "colab_type": "code",
        "colab": {}
      },
      "source": [
        "# Restaurant Price: Save as List\n",
        "# In reality, you may need to clean up data like removing unnecessary signs or strings and this will be demonstrated below.\n",
        "\n",
        "### START CODE HERE ### (≈ 2 lines of code)\n",
        "\n",
        "\n",
        "### END CODE HERE ###"
      ],
      "execution_count": 0,
      "outputs": []
    },
    {
      "cell_type": "markdown",
      "metadata": {
        "id": "mLNfwybPyZNS",
        "colab_type": "text"
      },
      "source": [
        "# Export to CSV\n",
        "Import neccesary libraries. The file will be saved in the virtual machine, so in order to download a csv file to your local computer, you need to import *files* from google.colab. \n",
        "\n",
        "## 1. Libraries\n",
        "\n",
        "*   [pandas](https://pandas.pydata.org/): open source, BSD-licensed library providing high-performance, easy-to-use data structures and data analysis tools.\n",
        "\n",
        "\n"
      ]
    },
    {
      "cell_type": "code",
      "metadata": {
        "id": "oqn5D29DycmM",
        "colab_type": "code",
        "colab": {}
      },
      "source": [
        "# import\n",
        "### START CODE HERE ### (≈ 2 lines of code)\n",
        "\n",
        "\n",
        "### END CODE HERE ###"
      ],
      "execution_count": 0,
      "outputs": []
    },
    {
      "cell_type": "markdown",
      "metadata": {
        "id": "WmK33Y6VyfjQ",
        "colab_type": "text"
      },
      "source": [
        "## 2. DataFrame"
      ]
    },
    {
      "cell_type": "code",
      "metadata": {
        "id": "pXQ4ed5cyf8W",
        "colab_type": "code",
        "colab": {}
      },
      "source": [
        "# Create an empty data frame\n",
        "### START CODE HERE ### (≈ 1 lines of code)\n",
        "\n",
        "### END CODE HERE ###\n",
        "\n",
        "# Add name to df\n",
        "### START CODE HERE ### (≈ 1 lines of code)\n",
        "\n",
        "### END CODE HERE ###\n",
        "\n",
        "# Add price to df\n",
        "### START CODE HERE ### (≈ 1 lines of code)\n",
        "\n",
        "### END CODE HERE ###\n",
        "\n",
        "# Keep only $$ sign\n",
        "df['Price'] = df['Price'].map(lambda x: x.lstrip('\\nPrice Range\\n'))\n",
        "df['Price'] = df['Price'].str.replace(\"\\n\", \"\")\n",
        "\n",
        "df"
      ],
      "execution_count": 0,
      "outputs": []
    },
    {
      "cell_type": "markdown",
      "metadata": {
        "id": "-UdHcjE3yo7U",
        "colab_type": "text"
      },
      "source": [
        "You can save df (Data frame) to csv format using df.to_csv().\n",
        "\n",
        "## 3. Save as CSV"
      ]
    },
    {
      "cell_type": "code",
      "metadata": {
        "id": "DEfVQeaeyqu9",
        "colab_type": "code",
        "colab": {}
      },
      "source": [
        "# Save df as csv in the virtual machine provided by Google\n",
        "### START CODE HERE ### (≈ 1 lines of code)\n",
        "\n",
        "### END CODE HERE ###\n",
        "# Download the file to your computer\n",
        "### START CODE HERE ### (≈ 1 lines of code)\n",
        "\n",
        "### END CODE HERE ###"
      ],
      "execution_count": 0,
      "outputs": []
    }
  ]
}